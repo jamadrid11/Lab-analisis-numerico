{
  "cells": [
    {
      "cell_type": "markdown",
      "metadata": {
        "id": "view-in-github",
        "colab_type": "text"
      },
      "source": [
        "<a href=\"https://colab.research.google.com/github/jamadrid11/Lab-analisis-numerico/blob/main/Te_damos_la_bienvenida_a_Colaboratory.ipynb\" target=\"_parent\"><img src=\"https://colab.research.google.com/assets/colab-badge.svg\" alt=\"Open In Colab\"/></a>"
      ]
    },
    {
      "cell_type": "markdown",
      "source": [],
      "metadata": {
        "id": "YFF7tD5v_JV0"
      }
    },
    {
      "cell_type": "markdown",
      "source": [
        "# math\n",
        "\n",
        "Se utiliza para realizar operaciones matematicas basicas con numeros escalares."
      ],
      "metadata": {
        "id": "ahsXjNq0Ehyc"
      }
    },
    {
      "cell_type": "code",
      "source": [
        "import math\n",
        "# Calcular la raiz cuadrada de x\n",
        "resultado= math.sqrt(x)\n",
        "print (\"la raiz cuadrada de 16 es\",resultado)"
      ],
      "metadata": {
        "id": "lr0pbpuRFDBH"
      },
      "execution_count": null,
      "outputs": []
    },
    {
      "cell_type": "markdown",
      "source": [
        "# Numpy\n",
        "\n",
        "Se utiliza para realizar arreglos y realizar operaciones matematicas de manera eficiente"
      ],
      "metadata": {
        "id": "uFIe-0fTFvaH"
      }
    },
    {
      "cell_type": "code",
      "source": [
        "import numpy as np\n",
        "\n",
        "\n",
        "arr=np,array([1,2,3,4])\n",
        "# Realizar una operacion sobre el array\n",
        "squared=np.sqrt(arr) # Raiz cuadrada de cada elemento\n",
        "print(\"Las raices cuadradas de los elementos son:\",squared)"
      ],
      "metadata": {
        "id": "ZNRE7hG6GDy-"
      },
      "execution_count": null,
      "outputs": []
    },
    {
      "cell_type": "markdown",
      "source": [
        "# Matplotib.pyplot\n",
        "Se utiliza para crear graficos y visualizar datos."
      ],
      "metadata": {
        "id": "EFuQuRR_HKge"
      }
    },
    {
      "cell_type": "code",
      "source": [
        "import matplotlib.pyplot as plt\n",
        "x= np.linspace(-10,10,100) #Generar 100 puntos de -10 a 10\n",
        "y= x**2 #funciones cuadratica\n",
        "plt.plot(x,y)\n",
        "plt.title(Grafico de f(x)=x**2)\n",
        "plt\n"
      ],
      "metadata": {
        "id": "2yu9MJjbH5Pt"
      },
      "execution_count": null,
      "outputs": []
    }
  ],
  "metadata": {
    "colab": {
      "name": "Te damos la bienvenida a Colaboratory",
      "provenance": [],
      "include_colab_link": true
    },
    "kernelspec": {
      "display_name": "Python 3",
      "name": "python3"
    }
  },
  "nbformat": 4,
  "nbformat_minor": 0
}